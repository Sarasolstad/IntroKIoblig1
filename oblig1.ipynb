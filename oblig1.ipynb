{
 "cells": [
  {
   "cell_type": "code",
   "execution_count": 1,
   "id": "f498fd9d",
   "metadata": {},
   "outputs": [],
   "source": [
    "import pandas as pd\n"
   ]
  },
  {
   "cell_type": "code",
   "execution_count": 2,
   "id": "e21a5ab6",
   "metadata": {},
   "outputs": [],
   "source": [
    "Grc_df = pd.read_csv(\"Grocery_dataset.csv\")\n",
    "\n"
   ]
  },
  {
   "cell_type": "code",
   "execution_count": 3,
   "id": "20fbca57",
   "metadata": {},
   "outputs": [
    {
     "name": "stdout",
     "output_type": "stream",
     "text": [
<<<<<<< HEAD
      "['.git', 'Grocery_dataset.csv', 'oblig1.ipynb', 'oblig1group25.ipynb', 'README.md']\n"
=======
      "['Grocery_dataset.csv', 'MA1', 'oblig1.ipynb']\n"
>>>>>>> 971a1250f485764302453631f682d845be2c350d
     ]
    }
   ],
   "source": [
    "import os\n",
    "print(os.listdir())\n",
    "\n"
   ]
  },
  {
   "cell_type": "code",
   "execution_count": 4,
   "id": "83fe7d51",
   "metadata": {},
   "outputs": [
    {
     "ename": "FileNotFoundError",
     "evalue": "[Errno 2] No such file or directory: 'C:\\\\Users\\\\Sara\\\\Downloads\\\\Grocery_dataset.csv'",
     "output_type": "error",
     "traceback": [
      "\u001b[31m---------------------------------------------------------------------------\u001b[39m",
      "\u001b[31mFileNotFoundError\u001b[39m                         Traceback (most recent call last)",
      "\u001b[36mCell\u001b[39m\u001b[36m \u001b[39m\u001b[32mIn[4]\u001b[39m\u001b[32m, line 1\u001b[39m\n\u001b[32m----> \u001b[39m\u001b[32m1\u001b[39m Grc_df = \u001b[43mpd\u001b[49m\u001b[43m.\u001b[49m\u001b[43mread_csv\u001b[49m\u001b[43m(\u001b[49m\u001b[33;43mr\u001b[39;49m\u001b[33;43m\"\u001b[39;49m\u001b[33;43mC:\u001b[39;49m\u001b[33;43m\\\u001b[39;49m\u001b[33;43mUsers\u001b[39;49m\u001b[33;43m\\\u001b[39;49m\u001b[33;43mSara\u001b[39;49m\u001b[33;43m\\\u001b[39;49m\u001b[33;43mDownloads\u001b[39;49m\u001b[33;43m\\\u001b[39;49m\u001b[33;43mGrocery_dataset.csv\u001b[39;49m\u001b[33;43m\"\u001b[39;49m\u001b[43m)\u001b[49m\n",
      "\u001b[36mFile \u001b[39m\u001b[32m~\\AppData\\Local\\Packages\\PythonSoftwareFoundation.Python.3.11_qbz5n2kfra8p0\\LocalCache\\local-packages\\Python311\\site-packages\\pandas\\io\\parsers\\readers.py:1026\u001b[39m, in \u001b[36mread_csv\u001b[39m\u001b[34m(filepath_or_buffer, sep, delimiter, header, names, index_col, usecols, dtype, engine, converters, true_values, false_values, skipinitialspace, skiprows, skipfooter, nrows, na_values, keep_default_na, na_filter, verbose, skip_blank_lines, parse_dates, infer_datetime_format, keep_date_col, date_parser, date_format, dayfirst, cache_dates, iterator, chunksize, compression, thousands, decimal, lineterminator, quotechar, quoting, doublequote, escapechar, comment, encoding, encoding_errors, dialect, on_bad_lines, delim_whitespace, low_memory, memory_map, float_precision, storage_options, dtype_backend)\u001b[39m\n\u001b[32m   1013\u001b[39m kwds_defaults = _refine_defaults_read(\n\u001b[32m   1014\u001b[39m     dialect,\n\u001b[32m   1015\u001b[39m     delimiter,\n\u001b[32m   (...)\u001b[39m\u001b[32m   1022\u001b[39m     dtype_backend=dtype_backend,\n\u001b[32m   1023\u001b[39m )\n\u001b[32m   1024\u001b[39m kwds.update(kwds_defaults)\n\u001b[32m-> \u001b[39m\u001b[32m1026\u001b[39m \u001b[38;5;28;01mreturn\u001b[39;00m \u001b[43m_read\u001b[49m\u001b[43m(\u001b[49m\u001b[43mfilepath_or_buffer\u001b[49m\u001b[43m,\u001b[49m\u001b[43m \u001b[49m\u001b[43mkwds\u001b[49m\u001b[43m)\u001b[49m\n",
      "\u001b[36mFile \u001b[39m\u001b[32m~\\AppData\\Local\\Packages\\PythonSoftwareFoundation.Python.3.11_qbz5n2kfra8p0\\LocalCache\\local-packages\\Python311\\site-packages\\pandas\\io\\parsers\\readers.py:620\u001b[39m, in \u001b[36m_read\u001b[39m\u001b[34m(filepath_or_buffer, kwds)\u001b[39m\n\u001b[32m    617\u001b[39m _validate_names(kwds.get(\u001b[33m\"\u001b[39m\u001b[33mnames\u001b[39m\u001b[33m\"\u001b[39m, \u001b[38;5;28;01mNone\u001b[39;00m))\n\u001b[32m    619\u001b[39m \u001b[38;5;66;03m# Create the parser.\u001b[39;00m\n\u001b[32m--> \u001b[39m\u001b[32m620\u001b[39m parser = \u001b[43mTextFileReader\u001b[49m\u001b[43m(\u001b[49m\u001b[43mfilepath_or_buffer\u001b[49m\u001b[43m,\u001b[49m\u001b[43m \u001b[49m\u001b[43m*\u001b[49m\u001b[43m*\u001b[49m\u001b[43mkwds\u001b[49m\u001b[43m)\u001b[49m\n\u001b[32m    622\u001b[39m \u001b[38;5;28;01mif\u001b[39;00m chunksize \u001b[38;5;129;01mor\u001b[39;00m iterator:\n\u001b[32m    623\u001b[39m     \u001b[38;5;28;01mreturn\u001b[39;00m parser\n",
      "\u001b[36mFile \u001b[39m\u001b[32m~\\AppData\\Local\\Packages\\PythonSoftwareFoundation.Python.3.11_qbz5n2kfra8p0\\LocalCache\\local-packages\\Python311\\site-packages\\pandas\\io\\parsers\\readers.py:1620\u001b[39m, in \u001b[36mTextFileReader.__init__\u001b[39m\u001b[34m(self, f, engine, **kwds)\u001b[39m\n\u001b[32m   1617\u001b[39m     \u001b[38;5;28mself\u001b[39m.options[\u001b[33m\"\u001b[39m\u001b[33mhas_index_names\u001b[39m\u001b[33m\"\u001b[39m] = kwds[\u001b[33m\"\u001b[39m\u001b[33mhas_index_names\u001b[39m\u001b[33m\"\u001b[39m]\n\u001b[32m   1619\u001b[39m \u001b[38;5;28mself\u001b[39m.handles: IOHandles | \u001b[38;5;28;01mNone\u001b[39;00m = \u001b[38;5;28;01mNone\u001b[39;00m\n\u001b[32m-> \u001b[39m\u001b[32m1620\u001b[39m \u001b[38;5;28mself\u001b[39m._engine = \u001b[38;5;28;43mself\u001b[39;49m\u001b[43m.\u001b[49m\u001b[43m_make_engine\u001b[49m\u001b[43m(\u001b[49m\u001b[43mf\u001b[49m\u001b[43m,\u001b[49m\u001b[43m \u001b[49m\u001b[38;5;28;43mself\u001b[39;49m\u001b[43m.\u001b[49m\u001b[43mengine\u001b[49m\u001b[43m)\u001b[49m\n",
      "\u001b[36mFile \u001b[39m\u001b[32m~\\AppData\\Local\\Packages\\PythonSoftwareFoundation.Python.3.11_qbz5n2kfra8p0\\LocalCache\\local-packages\\Python311\\site-packages\\pandas\\io\\parsers\\readers.py:1880\u001b[39m, in \u001b[36mTextFileReader._make_engine\u001b[39m\u001b[34m(self, f, engine)\u001b[39m\n\u001b[32m   1878\u001b[39m     \u001b[38;5;28;01mif\u001b[39;00m \u001b[33m\"\u001b[39m\u001b[33mb\u001b[39m\u001b[33m\"\u001b[39m \u001b[38;5;129;01mnot\u001b[39;00m \u001b[38;5;129;01min\u001b[39;00m mode:\n\u001b[32m   1879\u001b[39m         mode += \u001b[33m\"\u001b[39m\u001b[33mb\u001b[39m\u001b[33m\"\u001b[39m\n\u001b[32m-> \u001b[39m\u001b[32m1880\u001b[39m \u001b[38;5;28mself\u001b[39m.handles = \u001b[43mget_handle\u001b[49m\u001b[43m(\u001b[49m\n\u001b[32m   1881\u001b[39m \u001b[43m    \u001b[49m\u001b[43mf\u001b[49m\u001b[43m,\u001b[49m\n\u001b[32m   1882\u001b[39m \u001b[43m    \u001b[49m\u001b[43mmode\u001b[49m\u001b[43m,\u001b[49m\n\u001b[32m   1883\u001b[39m \u001b[43m    \u001b[49m\u001b[43mencoding\u001b[49m\u001b[43m=\u001b[49m\u001b[38;5;28;43mself\u001b[39;49m\u001b[43m.\u001b[49m\u001b[43moptions\u001b[49m\u001b[43m.\u001b[49m\u001b[43mget\u001b[49m\u001b[43m(\u001b[49m\u001b[33;43m\"\u001b[39;49m\u001b[33;43mencoding\u001b[39;49m\u001b[33;43m\"\u001b[39;49m\u001b[43m,\u001b[49m\u001b[43m \u001b[49m\u001b[38;5;28;43;01mNone\u001b[39;49;00m\u001b[43m)\u001b[49m\u001b[43m,\u001b[49m\n\u001b[32m   1884\u001b[39m \u001b[43m    \u001b[49m\u001b[43mcompression\u001b[49m\u001b[43m=\u001b[49m\u001b[38;5;28;43mself\u001b[39;49m\u001b[43m.\u001b[49m\u001b[43moptions\u001b[49m\u001b[43m.\u001b[49m\u001b[43mget\u001b[49m\u001b[43m(\u001b[49m\u001b[33;43m\"\u001b[39;49m\u001b[33;43mcompression\u001b[39;49m\u001b[33;43m\"\u001b[39;49m\u001b[43m,\u001b[49m\u001b[43m \u001b[49m\u001b[38;5;28;43;01mNone\u001b[39;49;00m\u001b[43m)\u001b[49m\u001b[43m,\u001b[49m\n\u001b[32m   1885\u001b[39m \u001b[43m    \u001b[49m\u001b[43mmemory_map\u001b[49m\u001b[43m=\u001b[49m\u001b[38;5;28;43mself\u001b[39;49m\u001b[43m.\u001b[49m\u001b[43moptions\u001b[49m\u001b[43m.\u001b[49m\u001b[43mget\u001b[49m\u001b[43m(\u001b[49m\u001b[33;43m\"\u001b[39;49m\u001b[33;43mmemory_map\u001b[39;49m\u001b[33;43m\"\u001b[39;49m\u001b[43m,\u001b[49m\u001b[43m \u001b[49m\u001b[38;5;28;43;01mFalse\u001b[39;49;00m\u001b[43m)\u001b[49m\u001b[43m,\u001b[49m\n\u001b[32m   1886\u001b[39m \u001b[43m    \u001b[49m\u001b[43mis_text\u001b[49m\u001b[43m=\u001b[49m\u001b[43mis_text\u001b[49m\u001b[43m,\u001b[49m\n\u001b[32m   1887\u001b[39m \u001b[43m    \u001b[49m\u001b[43merrors\u001b[49m\u001b[43m=\u001b[49m\u001b[38;5;28;43mself\u001b[39;49m\u001b[43m.\u001b[49m\u001b[43moptions\u001b[49m\u001b[43m.\u001b[49m\u001b[43mget\u001b[49m\u001b[43m(\u001b[49m\u001b[33;43m\"\u001b[39;49m\u001b[33;43mencoding_errors\u001b[39;49m\u001b[33;43m\"\u001b[39;49m\u001b[43m,\u001b[49m\u001b[43m \u001b[49m\u001b[33;43m\"\u001b[39;49m\u001b[33;43mstrict\u001b[39;49m\u001b[33;43m\"\u001b[39;49m\u001b[43m)\u001b[49m\u001b[43m,\u001b[49m\n\u001b[32m   1888\u001b[39m \u001b[43m    \u001b[49m\u001b[43mstorage_options\u001b[49m\u001b[43m=\u001b[49m\u001b[38;5;28;43mself\u001b[39;49m\u001b[43m.\u001b[49m\u001b[43moptions\u001b[49m\u001b[43m.\u001b[49m\u001b[43mget\u001b[49m\u001b[43m(\u001b[49m\u001b[33;43m\"\u001b[39;49m\u001b[33;43mstorage_options\u001b[39;49m\u001b[33;43m\"\u001b[39;49m\u001b[43m,\u001b[49m\u001b[43m \u001b[49m\u001b[38;5;28;43;01mNone\u001b[39;49;00m\u001b[43m)\u001b[49m\u001b[43m,\u001b[49m\n\u001b[32m   1889\u001b[39m \u001b[43m\u001b[49m\u001b[43m)\u001b[49m\n\u001b[32m   1890\u001b[39m \u001b[38;5;28;01massert\u001b[39;00m \u001b[38;5;28mself\u001b[39m.handles \u001b[38;5;129;01mis\u001b[39;00m \u001b[38;5;129;01mnot\u001b[39;00m \u001b[38;5;28;01mNone\u001b[39;00m\n\u001b[32m   1891\u001b[39m f = \u001b[38;5;28mself\u001b[39m.handles.handle\n",
      "\u001b[36mFile \u001b[39m\u001b[32m~\\AppData\\Local\\Packages\\PythonSoftwareFoundation.Python.3.11_qbz5n2kfra8p0\\LocalCache\\local-packages\\Python311\\site-packages\\pandas\\io\\common.py:873\u001b[39m, in \u001b[36mget_handle\u001b[39m\u001b[34m(path_or_buf, mode, encoding, compression, memory_map, is_text, errors, storage_options)\u001b[39m\n\u001b[32m    868\u001b[39m \u001b[38;5;28;01melif\u001b[39;00m \u001b[38;5;28misinstance\u001b[39m(handle, \u001b[38;5;28mstr\u001b[39m):\n\u001b[32m    869\u001b[39m     \u001b[38;5;66;03m# Check whether the filename is to be opened in binary mode.\u001b[39;00m\n\u001b[32m    870\u001b[39m     \u001b[38;5;66;03m# Binary mode does not support 'encoding' and 'newline'.\u001b[39;00m\n\u001b[32m    871\u001b[39m     \u001b[38;5;28;01mif\u001b[39;00m ioargs.encoding \u001b[38;5;129;01mand\u001b[39;00m \u001b[33m\"\u001b[39m\u001b[33mb\u001b[39m\u001b[33m\"\u001b[39m \u001b[38;5;129;01mnot\u001b[39;00m \u001b[38;5;129;01min\u001b[39;00m ioargs.mode:\n\u001b[32m    872\u001b[39m         \u001b[38;5;66;03m# Encoding\u001b[39;00m\n\u001b[32m--> \u001b[39m\u001b[32m873\u001b[39m         handle = \u001b[38;5;28;43mopen\u001b[39;49m\u001b[43m(\u001b[49m\n\u001b[32m    874\u001b[39m \u001b[43m            \u001b[49m\u001b[43mhandle\u001b[49m\u001b[43m,\u001b[49m\n\u001b[32m    875\u001b[39m \u001b[43m            \u001b[49m\u001b[43mioargs\u001b[49m\u001b[43m.\u001b[49m\u001b[43mmode\u001b[49m\u001b[43m,\u001b[49m\n\u001b[32m    876\u001b[39m \u001b[43m            \u001b[49m\u001b[43mencoding\u001b[49m\u001b[43m=\u001b[49m\u001b[43mioargs\u001b[49m\u001b[43m.\u001b[49m\u001b[43mencoding\u001b[49m\u001b[43m,\u001b[49m\n\u001b[32m    877\u001b[39m \u001b[43m            \u001b[49m\u001b[43merrors\u001b[49m\u001b[43m=\u001b[49m\u001b[43merrors\u001b[49m\u001b[43m,\u001b[49m\n\u001b[32m    878\u001b[39m \u001b[43m            \u001b[49m\u001b[43mnewline\u001b[49m\u001b[43m=\u001b[49m\u001b[33;43m\"\u001b[39;49m\u001b[33;43m\"\u001b[39;49m\u001b[43m,\u001b[49m\n\u001b[32m    879\u001b[39m \u001b[43m        \u001b[49m\u001b[43m)\u001b[49m\n\u001b[32m    880\u001b[39m     \u001b[38;5;28;01melse\u001b[39;00m:\n\u001b[32m    881\u001b[39m         \u001b[38;5;66;03m# Binary mode\u001b[39;00m\n\u001b[32m    882\u001b[39m         handle = \u001b[38;5;28mopen\u001b[39m(handle, ioargs.mode)\n",
      "\u001b[31mFileNotFoundError\u001b[39m: [Errno 2] No such file or directory: 'C:\\\\Users\\\\Sara\\\\Downloads\\\\Grocery_dataset.csv'"
     ]
    }
   ],
   "source": [
    "Grc_df = pd.read_csv(r\"C:\\Users\\Sara\\Downloads\\Grocery_dataset.csv\")\n"
   ]
  },
  {
   "cell_type": "code",
   "execution_count": null,
   "id": "ecc3257d",
   "metadata": {},
   "outputs": [
    {
     "name": "stdout",
     "output_type": "stream",
     "text": [
      "c:\\Users\\Sara\\KI-mappe\\Dave3625-Host-2025\\Mandatory Assignments\n"
     ]
    }
   ],
   "source": [
    "import os\n",
    "print(os.getcwd())\n",
    "\n"
   ]
  },
  {
   "cell_type": "code",
   "execution_count": null,
   "id": "656f874f",
   "metadata": {},
   "outputs": [
    {
     "name": "stdout",
     "output_type": "stream",
     "text": [
      "['MA1', 'oblig1.ipynb']\n"
     ]
    }
   ],
   "source": [
    "import os\n",
    "print(os.listdir())\n",
    "\n"
   ]
  },
  {
   "cell_type": "code",
   "execution_count": null,
   "id": "8cc8e2d9",
   "metadata": {},
   "outputs": [],
   "source": [
    "Grc_df = pd.read_csv(\"Grocery_dataset.csv\")\n"
   ]
  },
  {
   "cell_type": "code",
   "execution_count": null,
   "id": "cd180cf4",
   "metadata": {},
   "outputs": [],
   "source": [
    "import tkinter as tk\n",
    "from tkinter import filedialog\n",
    "import pandas as pd\n",
    "\n",
    "# Åpner et filvalg-vindu\n",
    "root = tk.Tk()\n",
    "root.withdraw()  # skjul hovedvindu\n",
    "file_path = filedialog.askopenfilename(title=\"Velg Grocery_dataset.csv\")\n",
    "\n",
    "# Leser CSV-fila\n",
    "Grc_df = pd.read_csv(file_path)\n",
    "\n",
    "print(\"Fil lastet fra:\", file_path)\n",
    "print(Grc_df.shape)\n",
    "display(Grc_df.head(10))\n",
    "display(Grc_df.tail(10))\n"
   ]
  },
  {
   "cell_type": "code",
   "execution_count": null,
   "id": "ad55f1ce",
   "metadata": {},
   "outputs": [],
   "source": [
    "import tkinter as tk\n",
    "from tkinter import filedialog\n",
    "import pandas as pd\n",
    "\n",
    "# Åpner et filvalg-vindu\n",
    "root = tk.Tk()\n",
    "root.withdraw()  # skjul hovedvindu\n",
    "file_path = filedialog.askopenfilename(title=\"Velg Grocery_dataset.csv\")\n",
    "\n",
    "# Leser CSV-fila\n",
    "Grc_df = pd.read_csv(file_path)\n",
    "\n",
    "print(\"Fil lastet fra:\", file_path)\n",
    "print(Grc_df.shape)\n",
    "display(Grc_df.head(10))\n",
    "display(Grc_df.tail(10))\n"
   ]
  },
  {
   "cell_type": "markdown",
   "id": "5f23f0b8",
   "metadata": {},
   "source": [
    "Oppgave 1\n",
    "\n",
    "Oppgavetekst:\n",
    "Read the CSV file in Pandas and create a DataFrame named Grc_df. What is the number of rows and columns in Grc_df? Print the first 10 and last 10 rows of Grc_df."
   ]
  },
  {
   "cell_type": "code",
   "execution_count": null,
   "id": "032fa339",
   "metadata": {},
   "outputs": [
    {
     "ename": "FileNotFoundError",
     "evalue": "[Errno 2] No such file or directory: 'Grocery_dataset.csv'",
     "output_type": "error",
     "traceback": [
      "\u001b[31m---------------------------------------------------------------------------\u001b[39m",
      "\u001b[31mFileNotFoundError\u001b[39m                         Traceback (most recent call last)",
      "\u001b[36mCell\u001b[39m\u001b[36m \u001b[39m\u001b[32mIn[1]\u001b[39m\u001b[32m, line 3\u001b[39m\n\u001b[32m      1\u001b[39m \u001b[38;5;28;01mimport\u001b[39;00m\u001b[38;5;250m \u001b[39m\u001b[34;01mpandas\u001b[39;00m\u001b[38;5;250m \u001b[39m\u001b[38;5;28;01mas\u001b[39;00m\u001b[38;5;250m \u001b[39m\u001b[34;01mpd\u001b[39;00m\n\u001b[32m----> \u001b[39m\u001b[32m3\u001b[39m Grc_df = \u001b[43mpd\u001b[49m\u001b[43m.\u001b[49m\u001b[43mread_csv\u001b[49m\u001b[43m(\u001b[49m\u001b[33;43m\"\u001b[39;49m\u001b[33;43mGrocery_dataset.csv\u001b[39;49m\u001b[33;43m\"\u001b[39;49m\u001b[43m)\u001b[49m\n\u001b[32m      5\u001b[39m \u001b[38;5;28mprint\u001b[39m(\u001b[33m\"\u001b[39m\u001b[33mAntall rader og kolonner:\u001b[39m\u001b[33m\"\u001b[39m, Grc_df.shape)\n\u001b[32m      6\u001b[39m display(Grc_df.head(\u001b[32m10\u001b[39m))\n",
      "\u001b[36mFile \u001b[39m\u001b[32m~\\AppData\\Local\\Packages\\PythonSoftwareFoundation.Python.3.11_qbz5n2kfra8p0\\LocalCache\\local-packages\\Python311\\site-packages\\pandas\\io\\parsers\\readers.py:1026\u001b[39m, in \u001b[36mread_csv\u001b[39m\u001b[34m(filepath_or_buffer, sep, delimiter, header, names, index_col, usecols, dtype, engine, converters, true_values, false_values, skipinitialspace, skiprows, skipfooter, nrows, na_values, keep_default_na, na_filter, verbose, skip_blank_lines, parse_dates, infer_datetime_format, keep_date_col, date_parser, date_format, dayfirst, cache_dates, iterator, chunksize, compression, thousands, decimal, lineterminator, quotechar, quoting, doublequote, escapechar, comment, encoding, encoding_errors, dialect, on_bad_lines, delim_whitespace, low_memory, memory_map, float_precision, storage_options, dtype_backend)\u001b[39m\n\u001b[32m   1013\u001b[39m kwds_defaults = _refine_defaults_read(\n\u001b[32m   1014\u001b[39m     dialect,\n\u001b[32m   1015\u001b[39m     delimiter,\n\u001b[32m   (...)\u001b[39m\u001b[32m   1022\u001b[39m     dtype_backend=dtype_backend,\n\u001b[32m   1023\u001b[39m )\n\u001b[32m   1024\u001b[39m kwds.update(kwds_defaults)\n\u001b[32m-> \u001b[39m\u001b[32m1026\u001b[39m \u001b[38;5;28;01mreturn\u001b[39;00m \u001b[43m_read\u001b[49m\u001b[43m(\u001b[49m\u001b[43mfilepath_or_buffer\u001b[49m\u001b[43m,\u001b[49m\u001b[43m \u001b[49m\u001b[43mkwds\u001b[49m\u001b[43m)\u001b[49m\n",
      "\u001b[36mFile \u001b[39m\u001b[32m~\\AppData\\Local\\Packages\\PythonSoftwareFoundation.Python.3.11_qbz5n2kfra8p0\\LocalCache\\local-packages\\Python311\\site-packages\\pandas\\io\\parsers\\readers.py:620\u001b[39m, in \u001b[36m_read\u001b[39m\u001b[34m(filepath_or_buffer, kwds)\u001b[39m\n\u001b[32m    617\u001b[39m _validate_names(kwds.get(\u001b[33m\"\u001b[39m\u001b[33mnames\u001b[39m\u001b[33m\"\u001b[39m, \u001b[38;5;28;01mNone\u001b[39;00m))\n\u001b[32m    619\u001b[39m \u001b[38;5;66;03m# Create the parser.\u001b[39;00m\n\u001b[32m--> \u001b[39m\u001b[32m620\u001b[39m parser = \u001b[43mTextFileReader\u001b[49m\u001b[43m(\u001b[49m\u001b[43mfilepath_or_buffer\u001b[49m\u001b[43m,\u001b[49m\u001b[43m \u001b[49m\u001b[43m*\u001b[49m\u001b[43m*\u001b[49m\u001b[43mkwds\u001b[49m\u001b[43m)\u001b[49m\n\u001b[32m    622\u001b[39m \u001b[38;5;28;01mif\u001b[39;00m chunksize \u001b[38;5;129;01mor\u001b[39;00m iterator:\n\u001b[32m    623\u001b[39m     \u001b[38;5;28;01mreturn\u001b[39;00m parser\n",
      "\u001b[36mFile \u001b[39m\u001b[32m~\\AppData\\Local\\Packages\\PythonSoftwareFoundation.Python.3.11_qbz5n2kfra8p0\\LocalCache\\local-packages\\Python311\\site-packages\\pandas\\io\\parsers\\readers.py:1620\u001b[39m, in \u001b[36mTextFileReader.__init__\u001b[39m\u001b[34m(self, f, engine, **kwds)\u001b[39m\n\u001b[32m   1617\u001b[39m     \u001b[38;5;28mself\u001b[39m.options[\u001b[33m\"\u001b[39m\u001b[33mhas_index_names\u001b[39m\u001b[33m\"\u001b[39m] = kwds[\u001b[33m\"\u001b[39m\u001b[33mhas_index_names\u001b[39m\u001b[33m\"\u001b[39m]\n\u001b[32m   1619\u001b[39m \u001b[38;5;28mself\u001b[39m.handles: IOHandles | \u001b[38;5;28;01mNone\u001b[39;00m = \u001b[38;5;28;01mNone\u001b[39;00m\n\u001b[32m-> \u001b[39m\u001b[32m1620\u001b[39m \u001b[38;5;28mself\u001b[39m._engine = \u001b[38;5;28;43mself\u001b[39;49m\u001b[43m.\u001b[49m\u001b[43m_make_engine\u001b[49m\u001b[43m(\u001b[49m\u001b[43mf\u001b[49m\u001b[43m,\u001b[49m\u001b[43m \u001b[49m\u001b[38;5;28;43mself\u001b[39;49m\u001b[43m.\u001b[49m\u001b[43mengine\u001b[49m\u001b[43m)\u001b[49m\n",
      "\u001b[36mFile \u001b[39m\u001b[32m~\\AppData\\Local\\Packages\\PythonSoftwareFoundation.Python.3.11_qbz5n2kfra8p0\\LocalCache\\local-packages\\Python311\\site-packages\\pandas\\io\\parsers\\readers.py:1880\u001b[39m, in \u001b[36mTextFileReader._make_engine\u001b[39m\u001b[34m(self, f, engine)\u001b[39m\n\u001b[32m   1878\u001b[39m     \u001b[38;5;28;01mif\u001b[39;00m \u001b[33m\"\u001b[39m\u001b[33mb\u001b[39m\u001b[33m\"\u001b[39m \u001b[38;5;129;01mnot\u001b[39;00m \u001b[38;5;129;01min\u001b[39;00m mode:\n\u001b[32m   1879\u001b[39m         mode += \u001b[33m\"\u001b[39m\u001b[33mb\u001b[39m\u001b[33m\"\u001b[39m\n\u001b[32m-> \u001b[39m\u001b[32m1880\u001b[39m \u001b[38;5;28mself\u001b[39m.handles = \u001b[43mget_handle\u001b[49m\u001b[43m(\u001b[49m\n\u001b[32m   1881\u001b[39m \u001b[43m    \u001b[49m\u001b[43mf\u001b[49m\u001b[43m,\u001b[49m\n\u001b[32m   1882\u001b[39m \u001b[43m    \u001b[49m\u001b[43mmode\u001b[49m\u001b[43m,\u001b[49m\n\u001b[32m   1883\u001b[39m \u001b[43m    \u001b[49m\u001b[43mencoding\u001b[49m\u001b[43m=\u001b[49m\u001b[38;5;28;43mself\u001b[39;49m\u001b[43m.\u001b[49m\u001b[43moptions\u001b[49m\u001b[43m.\u001b[49m\u001b[43mget\u001b[49m\u001b[43m(\u001b[49m\u001b[33;43m\"\u001b[39;49m\u001b[33;43mencoding\u001b[39;49m\u001b[33;43m\"\u001b[39;49m\u001b[43m,\u001b[49m\u001b[43m \u001b[49m\u001b[38;5;28;43;01mNone\u001b[39;49;00m\u001b[43m)\u001b[49m\u001b[43m,\u001b[49m\n\u001b[32m   1884\u001b[39m \u001b[43m    \u001b[49m\u001b[43mcompression\u001b[49m\u001b[43m=\u001b[49m\u001b[38;5;28;43mself\u001b[39;49m\u001b[43m.\u001b[49m\u001b[43moptions\u001b[49m\u001b[43m.\u001b[49m\u001b[43mget\u001b[49m\u001b[43m(\u001b[49m\u001b[33;43m\"\u001b[39;49m\u001b[33;43mcompression\u001b[39;49m\u001b[33;43m\"\u001b[39;49m\u001b[43m,\u001b[49m\u001b[43m \u001b[49m\u001b[38;5;28;43;01mNone\u001b[39;49;00m\u001b[43m)\u001b[49m\u001b[43m,\u001b[49m\n\u001b[32m   1885\u001b[39m \u001b[43m    \u001b[49m\u001b[43mmemory_map\u001b[49m\u001b[43m=\u001b[49m\u001b[38;5;28;43mself\u001b[39;49m\u001b[43m.\u001b[49m\u001b[43moptions\u001b[49m\u001b[43m.\u001b[49m\u001b[43mget\u001b[49m\u001b[43m(\u001b[49m\u001b[33;43m\"\u001b[39;49m\u001b[33;43mmemory_map\u001b[39;49m\u001b[33;43m\"\u001b[39;49m\u001b[43m,\u001b[49m\u001b[43m \u001b[49m\u001b[38;5;28;43;01mFalse\u001b[39;49;00m\u001b[43m)\u001b[49m\u001b[43m,\u001b[49m\n\u001b[32m   1886\u001b[39m \u001b[43m    \u001b[49m\u001b[43mis_text\u001b[49m\u001b[43m=\u001b[49m\u001b[43mis_text\u001b[49m\u001b[43m,\u001b[49m\n\u001b[32m   1887\u001b[39m \u001b[43m    \u001b[49m\u001b[43merrors\u001b[49m\u001b[43m=\u001b[49m\u001b[38;5;28;43mself\u001b[39;49m\u001b[43m.\u001b[49m\u001b[43moptions\u001b[49m\u001b[43m.\u001b[49m\u001b[43mget\u001b[49m\u001b[43m(\u001b[49m\u001b[33;43m\"\u001b[39;49m\u001b[33;43mencoding_errors\u001b[39;49m\u001b[33;43m\"\u001b[39;49m\u001b[43m,\u001b[49m\u001b[43m \u001b[49m\u001b[33;43m\"\u001b[39;49m\u001b[33;43mstrict\u001b[39;49m\u001b[33;43m\"\u001b[39;49m\u001b[43m)\u001b[49m\u001b[43m,\u001b[49m\n\u001b[32m   1888\u001b[39m \u001b[43m    \u001b[49m\u001b[43mstorage_options\u001b[49m\u001b[43m=\u001b[49m\u001b[38;5;28;43mself\u001b[39;49m\u001b[43m.\u001b[49m\u001b[43moptions\u001b[49m\u001b[43m.\u001b[49m\u001b[43mget\u001b[49m\u001b[43m(\u001b[49m\u001b[33;43m\"\u001b[39;49m\u001b[33;43mstorage_options\u001b[39;49m\u001b[33;43m\"\u001b[39;49m\u001b[43m,\u001b[49m\u001b[43m \u001b[49m\u001b[38;5;28;43;01mNone\u001b[39;49;00m\u001b[43m)\u001b[49m\u001b[43m,\u001b[49m\n\u001b[32m   1889\u001b[39m \u001b[43m\u001b[49m\u001b[43m)\u001b[49m\n\u001b[32m   1890\u001b[39m \u001b[38;5;28;01massert\u001b[39;00m \u001b[38;5;28mself\u001b[39m.handles \u001b[38;5;129;01mis\u001b[39;00m \u001b[38;5;129;01mnot\u001b[39;00m \u001b[38;5;28;01mNone\u001b[39;00m\n\u001b[32m   1891\u001b[39m f = \u001b[38;5;28mself\u001b[39m.handles.handle\n",
      "\u001b[36mFile \u001b[39m\u001b[32m~\\AppData\\Local\\Packages\\PythonSoftwareFoundation.Python.3.11_qbz5n2kfra8p0\\LocalCache\\local-packages\\Python311\\site-packages\\pandas\\io\\common.py:873\u001b[39m, in \u001b[36mget_handle\u001b[39m\u001b[34m(path_or_buf, mode, encoding, compression, memory_map, is_text, errors, storage_options)\u001b[39m\n\u001b[32m    868\u001b[39m \u001b[38;5;28;01melif\u001b[39;00m \u001b[38;5;28misinstance\u001b[39m(handle, \u001b[38;5;28mstr\u001b[39m):\n\u001b[32m    869\u001b[39m     \u001b[38;5;66;03m# Check whether the filename is to be opened in binary mode.\u001b[39;00m\n\u001b[32m    870\u001b[39m     \u001b[38;5;66;03m# Binary mode does not support 'encoding' and 'newline'.\u001b[39;00m\n\u001b[32m    871\u001b[39m     \u001b[38;5;28;01mif\u001b[39;00m ioargs.encoding \u001b[38;5;129;01mand\u001b[39;00m \u001b[33m\"\u001b[39m\u001b[33mb\u001b[39m\u001b[33m\"\u001b[39m \u001b[38;5;129;01mnot\u001b[39;00m \u001b[38;5;129;01min\u001b[39;00m ioargs.mode:\n\u001b[32m    872\u001b[39m         \u001b[38;5;66;03m# Encoding\u001b[39;00m\n\u001b[32m--> \u001b[39m\u001b[32m873\u001b[39m         handle = \u001b[38;5;28;43mopen\u001b[39;49m\u001b[43m(\u001b[49m\n\u001b[32m    874\u001b[39m \u001b[43m            \u001b[49m\u001b[43mhandle\u001b[49m\u001b[43m,\u001b[49m\n\u001b[32m    875\u001b[39m \u001b[43m            \u001b[49m\u001b[43mioargs\u001b[49m\u001b[43m.\u001b[49m\u001b[43mmode\u001b[49m\u001b[43m,\u001b[49m\n\u001b[32m    876\u001b[39m \u001b[43m            \u001b[49m\u001b[43mencoding\u001b[49m\u001b[43m=\u001b[49m\u001b[43mioargs\u001b[49m\u001b[43m.\u001b[49m\u001b[43mencoding\u001b[49m\u001b[43m,\u001b[49m\n\u001b[32m    877\u001b[39m \u001b[43m            \u001b[49m\u001b[43merrors\u001b[49m\u001b[43m=\u001b[49m\u001b[43merrors\u001b[49m\u001b[43m,\u001b[49m\n\u001b[32m    878\u001b[39m \u001b[43m            \u001b[49m\u001b[43mnewline\u001b[49m\u001b[43m=\u001b[49m\u001b[33;43m\"\u001b[39;49m\u001b[33;43m\"\u001b[39;49m\u001b[43m,\u001b[49m\n\u001b[32m    879\u001b[39m \u001b[43m        \u001b[49m\u001b[43m)\u001b[49m\n\u001b[32m    880\u001b[39m     \u001b[38;5;28;01melse\u001b[39;00m:\n\u001b[32m    881\u001b[39m         \u001b[38;5;66;03m# Binary mode\u001b[39;00m\n\u001b[32m    882\u001b[39m         handle = \u001b[38;5;28mopen\u001b[39m(handle, ioargs.mode)\n",
      "\u001b[31mFileNotFoundError\u001b[39m: [Errno 2] No such file or directory: 'Grocery_dataset.csv'"
     ]
    }
   ],
   "source": [
    "\n",
    "import pandas as pd\n",
    "\n",
    "Grc_df = pd.read_csv(\"Grocery_dataset.csv\")\n",
    "\n",
    "print(\"Antall rader og kolonner:\", Grc_df.shape)\n",
    "display(Grc_df.head(10))\n",
    "display(Grc_df.tail(10))\n"
   ]
  },
  {
   "cell_type": "code",
   "execution_count": null,
   "id": "5f0b7e34",
   "metadata": {},
   "outputs": [
    {
     "name": "stdout",
     "output_type": "stream",
     "text": [
      "['Grocery_dataset.csv', 'MA1', 'oblig1.ipynb']\n"
     ]
    }
   ],
   "source": [
    "import os\n",
    "print(os.listdir())\n"
   ]
  },
  {
   "cell_type": "markdown",
   "id": "9b399be7",
   "metadata": {},
   "source": [
    "Oppgave 2\n",
    "\n",
    "Oppgavetekst:\n",
    "Are there any null values in the Grc_df? If yes, then in which columns and how many? Finally, handle these null values using any strategy shown during the labs."
   ]
  },
  {
   "cell_type": "code",
   "execution_count": null,
   "id": "241023b3",
   "metadata": {},
   "outputs": [
    {
     "name": "stdout",
     "output_type": "stream",
     "text": [
      "Antall null-verdier per kolonne: \n",
      " Item_Identifier                 0\n",
      "Item_Weight                   818\n",
      "Item_Fat_Content                0\n",
      "Item_Visibility                 0\n",
      "Item_Type                       0\n",
      "Item_MRP                        0\n",
      "Outlet_Identifier               0\n",
      "Outlet_Establishment_Year       0\n",
      "Outlet_Size                  1439\n",
      "Outlet_Location_Type            0\n",
      "Outlet_Type                     0\n",
      "Item_Outlet_Sales               0\n",
      "dtype: int64\n"
     ]
    }
   ],
   "source": [
    "null_counts = Grc_df.isnull().sum()\n",
    "print(\"Antall null-verdier per kolonne: \\n\", null_counts)"
   ]
  },
  {
   "cell_type": "code",
   "execution_count": null,
   "id": "057c764b",
   "metadata": {},
   "outputs": [
    {
     "name": "stdout",
     "output_type": "stream",
     "text": [
      "kolonner med minst en null-verdi: \n",
      "Item_Weight     818\n",
      "Outlet_Size    1439\n",
      "dtype: int64\n"
     ]
    }
   ],
   "source": [
    "print(\"kolonner med minst en null-verdi: \")\n",
    "print(null_counts[null_counts > 0])"
   ]
  },
  {
   "cell_type": "markdown",
   "id": "133efb64",
   "metadata": {},
   "source": [
    "Oppgave 3\n",
    "\n",
    "Oppgavetekst:\n",
    "How many unique Outlet Sizes are there in the Grc_df? Which outlet size is maximum, and which is minimum?"
   ]
  },
  {
   "cell_type": "code",
   "execution_count": null,
   "id": "c9ab5025",
   "metadata": {},
   "outputs": [
    {
     "name": "stdout",
     "output_type": "stream",
     "text": [
      "Unike Outlet Sizes:  ['Medium' nan 'High' 'Small']\n",
      "Antall per Outlet Size:\n",
      " Outlet_Size\n",
      "Medium    1605\n",
      "Small     1398\n",
      "High       558\n",
      "Name: count, dtype: int64\n",
      "Mest vanlig Outlet Size:  Medium\n",
      "Minst vanlig Outlet Size:  High\n"
     ]
    }
   ],
   "source": [
    "unique_sizes = Grc_df['Outlet_Size'].unique()\n",
    "print(\"Unike Outlet Sizes: \",unique_sizes)\n",
    "\n",
    "outlet_size_counts = Grc_df['Outlet_Size'].value_counts()\n",
    "\n",
    "print(\"Antall per Outlet Size:\\n\",outlet_size_counts)\n",
    "print(\"Mest vanlig Outlet Size: \", outlet_size_counts.idxmax())\n",
    "print(\"Minst vanlig Outlet Size: \",outlet_size_counts.idxmin())"
   ]
  },
  {
   "cell_type": "markdown",
   "id": "2b529845",
   "metadata": {},
   "source": [
    "Oppgave 4\n",
    "\n",
    "Oppgavetekst:\n",
    "How many unique Item Fat Content types are in the Grc_df? List them. Do you see any issues with the Item Fat Content types? If yes, then handle this issue."
   ]
  },
  {
   "cell_type": "code",
   "execution_count": null,
   "id": "5a6c4187",
   "metadata": {},
   "outputs": [
    {
     "name": "stdout",
     "output_type": "stream",
     "text": [
      "Unike Item Fat Content typer: ['Low Fat' 'Regular' 'low fat' 'LF' 'reg']\n",
      "Ryddet Item Fat Content typer: ['Low Fat' 'Regular']\n"
     ]
    }
   ],
   "source": [
    "# Unike verdier\n",
    "unique_fat = Grc_df['Item_Fat_Content'].unique()\n",
    "print(\"Unike Item Fat Content typer:\", unique_fat)\n",
    "\n",
    "# Rydd opp i konsistens (lavere vs. lav fett)\n",
    "Grc_df['Item_Fat_Content'] = Grc_df['Item_Fat_Content'].replace({\n",
    "    'LF':'Low Fat', 'low fat':'Low Fat', 'reg':'Regular'\n",
    "})\n",
    "\n",
    "# Sjekk unike verdier etter rydding\n",
    "print(\"Ryddet Item Fat Content typer:\", Grc_df['Item_Fat_Content'].unique())\n"
   ]
  },
  {
   "cell_type": "markdown",
   "id": "b9210eff",
   "metadata": {},
   "source": [
    "Oppgave 5\n",
    "\n",
    "Oppgavetekst:\n",
    "Drop the columns having index values of 0, 6 and create a new DataFrame Grc_new_df."
   ]
  },
  {
   "cell_type": "code",
   "execution_count": null,
   "id": "7554c2b5",
   "metadata": {},
   "outputs": [
    {
     "data": {
      "text/html": [
       "<div>\n",
       "<style scoped>\n",
       "    .dataframe tbody tr th:only-of-type {\n",
       "        vertical-align: middle;\n",
       "    }\n",
       "\n",
       "    .dataframe tbody tr th {\n",
       "        vertical-align: top;\n",
       "    }\n",
       "\n",
       "    .dataframe thead th {\n",
       "        text-align: right;\n",
       "    }\n",
       "</style>\n",
       "<table border=\"1\" class=\"dataframe\">\n",
       "  <thead>\n",
       "    <tr style=\"text-align: right;\">\n",
       "      <th></th>\n",
       "      <th>Item_Weight</th>\n",
       "      <th>Item_Fat_Content</th>\n",
       "      <th>Item_Visibility</th>\n",
       "      <th>Item_Type</th>\n",
       "      <th>Item_MRP</th>\n",
       "      <th>Outlet_Establishment_Year</th>\n",
       "      <th>Outlet_Size</th>\n",
       "      <th>Outlet_Location_Type</th>\n",
       "      <th>Outlet_Type</th>\n",
       "      <th>Item_Outlet_Sales</th>\n",
       "    </tr>\n",
       "  </thead>\n",
       "  <tbody>\n",
       "    <tr>\n",
       "      <th>0</th>\n",
       "      <td>9.30</td>\n",
       "      <td>Low Fat</td>\n",
       "      <td>0.016047</td>\n",
       "      <td>Dairy</td>\n",
       "      <td>249.8092</td>\n",
       "      <td>1999</td>\n",
       "      <td>Medium</td>\n",
       "      <td>Tier 1</td>\n",
       "      <td>Supermarket Type1</td>\n",
       "      <td>3735.1380</td>\n",
       "    </tr>\n",
       "    <tr>\n",
       "      <th>1</th>\n",
       "      <td>5.92</td>\n",
       "      <td>Regular</td>\n",
       "      <td>0.019278</td>\n",
       "      <td>Soft Drinks</td>\n",
       "      <td>48.2692</td>\n",
       "      <td>2009</td>\n",
       "      <td>Medium</td>\n",
       "      <td>Tier 3</td>\n",
       "      <td>Supermarket Type2</td>\n",
       "      <td>443.4228</td>\n",
       "    </tr>\n",
       "    <tr>\n",
       "      <th>2</th>\n",
       "      <td>17.50</td>\n",
       "      <td>Low Fat</td>\n",
       "      <td>0.016760</td>\n",
       "      <td>Meat</td>\n",
       "      <td>141.6180</td>\n",
       "      <td>1999</td>\n",
       "      <td>Medium</td>\n",
       "      <td>Tier 1</td>\n",
       "      <td>Supermarket Type1</td>\n",
       "      <td>2097.2700</td>\n",
       "    </tr>\n",
       "    <tr>\n",
       "      <th>3</th>\n",
       "      <td>19.20</td>\n",
       "      <td>Regular</td>\n",
       "      <td>0.000000</td>\n",
       "      <td>Fruits and Vegetables</td>\n",
       "      <td>182.0950</td>\n",
       "      <td>1998</td>\n",
       "      <td>NaN</td>\n",
       "      <td>Tier 3</td>\n",
       "      <td>Grocery Store</td>\n",
       "      <td>732.3800</td>\n",
       "    </tr>\n",
       "    <tr>\n",
       "      <th>4</th>\n",
       "      <td>8.93</td>\n",
       "      <td>Low Fat</td>\n",
       "      <td>0.000000</td>\n",
       "      <td>Household</td>\n",
       "      <td>53.8614</td>\n",
       "      <td>1987</td>\n",
       "      <td>High</td>\n",
       "      <td>Tier 3</td>\n",
       "      <td>Supermarket Type1</td>\n",
       "      <td>994.7052</td>\n",
       "    </tr>\n",
       "  </tbody>\n",
       "</table>\n",
       "</div>"
      ],
      "text/plain": [
       "   Item_Weight Item_Fat_Content  Item_Visibility              Item_Type  \\\n",
       "0         9.30          Low Fat         0.016047                  Dairy   \n",
       "1         5.92          Regular         0.019278            Soft Drinks   \n",
       "2        17.50          Low Fat         0.016760                   Meat   \n",
       "3        19.20          Regular         0.000000  Fruits and Vegetables   \n",
       "4         8.93          Low Fat         0.000000              Household   \n",
       "\n",
       "   Item_MRP  Outlet_Establishment_Year Outlet_Size Outlet_Location_Type  \\\n",
       "0  249.8092                       1999      Medium               Tier 1   \n",
       "1   48.2692                       2009      Medium               Tier 3   \n",
       "2  141.6180                       1999      Medium               Tier 1   \n",
       "3  182.0950                       1998         NaN               Tier 3   \n",
       "4   53.8614                       1987        High               Tier 3   \n",
       "\n",
       "         Outlet_Type  Item_Outlet_Sales  \n",
       "0  Supermarket Type1          3735.1380  \n",
       "1  Supermarket Type2           443.4228  \n",
       "2  Supermarket Type1          2097.2700  \n",
       "3      Grocery Store           732.3800  \n",
       "4  Supermarket Type1           994.7052  "
      ]
     },
     "metadata": {},
     "output_type": "display_data"
    }
   ],
   "source": [
    "Grc_new_df = Grc_df.drop(Grc_df.columns[[0,6]], axis=1)\n",
    "display(Grc_new_df.head())"
   ]
  },
  {
   "cell_type": "markdown",
   "id": "68e55f3e",
   "metadata": {},
   "source": [
    "Oppgave 6\n",
    "\n",
    "Oppgavetekst:\n",
    "Using different Supermarket type listed in the column Outlet_Type create two different DataFrames from Grc_new_df. Name these DataFrames as SupType_1 and SupType_2."
   ]
  },
  {
   "cell_type": "code",
   "execution_count": null,
   "id": "289383d9",
   "metadata": {},
   "outputs": [
    {
     "name": "stdout",
     "output_type": "stream",
     "text": [
      "SupType_1 shape: (3328, 10)\n",
      "SupType_2 shape: (526, 10)\n"
     ]
    }
   ],
   "source": [
    "# Velg to forskjellige Outlet_Type, for eksempel 'Supermarket Type1' og 'Supermarket Type2'\n",
    "types = Grc_new_df['Outlet_Type'].unique()\n",
    "SupType_1 = Grc_new_df[Grc_new_df['Outlet_Type'] == types[0]]\n",
    "SupType_2 = Grc_new_df[Grc_new_df['Outlet_Type'] == types[1]]\n",
    "\n",
    "print(\"SupType_1 shape:\", SupType_1.shape)\n",
    "print(\"SupType_2 shape:\", SupType_2.shape)\n"
   ]
  },
  {
<<<<<<< HEAD
   "cell_type": "code",
   "execution_count": null,
   "id": "578c9a3e",
=======
   "cell_type": "markdown",
   "id": "4c467994",
>>>>>>> 971a1250f485764302453631f682d845be2c350d
   "metadata": {},
   "source": [
    "Oppgave 7\n",
    "\n",
    "Oppgavetekst:\n",
    "Using Seaborn (“ggplot style”) create a (2,1) subplot of a box plot showing 5-point summary of the column Item_MRP for SupType_1 and SupType_2. Which Outlet Type has a higher median MRP? Are there any outliers?"
   ]
  },
  {
   "cell_type": "code",
   "execution_count": null,
<<<<<<< HEAD
   "id": "746294b8",
   "metadata": {},
   "outputs": [
    {
     "ename": "ValueError",
     "evalue": "style must be one of white, dark, whitegrid, darkgrid, ticks",
     "output_type": "error",
     "traceback": [
      "\u001b[31m---------------------------------------------------------------------------\u001b[39m",
      "\u001b[31mValueError\u001b[39m                                Traceback (most recent call last)",
      "\u001b[36mCell\u001b[39m\u001b[36m \u001b[39m\u001b[32mIn[13]\u001b[39m\u001b[32m, line 4\u001b[39m\n\u001b[32m      1\u001b[39m \u001b[38;5;28;01mimport\u001b[39;00m\u001b[38;5;250m \u001b[39m\u001b[34;01mseaborn\u001b[39;00m\u001b[38;5;250m \u001b[39m\u001b[38;5;28;01mas\u001b[39;00m\u001b[38;5;250m \u001b[39m\u001b[34;01msns\u001b[39;00m\n\u001b[32m      2\u001b[39m \u001b[38;5;28;01mimport\u001b[39;00m\u001b[38;5;250m \u001b[39m\u001b[34;01mmatplotlib\u001b[39;00m\u001b[34;01m.\u001b[39;00m\u001b[34;01mpyplot\u001b[39;00m\u001b[38;5;250m \u001b[39m\u001b[38;5;28;01mas\u001b[39;00m\u001b[38;5;250m \u001b[39m\u001b[34;01mplt\u001b[39;00m\n\u001b[32m----> \u001b[39m\u001b[32m4\u001b[39m \u001b[43msns\u001b[49m\u001b[43m.\u001b[49m\u001b[43mset_style\u001b[49m\u001b[43m(\u001b[49m\u001b[33;43m\"\u001b[39;49m\u001b[33;43mggplot\u001b[39;49m\u001b[33;43m\"\u001b[39;49m\u001b[43m)\u001b[49m\n\u001b[32m      6\u001b[39m \u001b[38;5;66;03m# Sjekk at data finnes\u001b[39;00m\n\u001b[32m      7\u001b[39m \u001b[38;5;28mprint\u001b[39m(SupType_1.shape, SupType_2.shape)\n",
      "\u001b[36mFile \u001b[39m\u001b[32mc:\\Users\\Sara\\KI-mappe\\Dave3625-Host-2025\\.venv\\Lib\\site-packages\\seaborn\\rcmod.py:331\u001b[39m, in \u001b[36mset_style\u001b[39m\u001b[34m(style, rc)\u001b[39m\n\u001b[32m    303\u001b[39m \u001b[38;5;28;01mdef\u001b[39;00m\u001b[38;5;250m \u001b[39m\u001b[34mset_style\u001b[39m(style=\u001b[38;5;28;01mNone\u001b[39;00m, rc=\u001b[38;5;28;01mNone\u001b[39;00m):\n\u001b[32m    304\u001b[39m \u001b[38;5;250m    \u001b[39m\u001b[33;03m\"\"\"\u001b[39;00m\n\u001b[32m    305\u001b[39m \u001b[33;03m    Set the parameters that control the general style of the plots.\u001b[39;00m\n\u001b[32m    306\u001b[39m \n\u001b[32m   (...)\u001b[39m\u001b[32m    329\u001b[39m \n\u001b[32m    330\u001b[39m \u001b[33;03m    \"\"\"\u001b[39;00m\n\u001b[32m--> \u001b[39m\u001b[32m331\u001b[39m     style_object = \u001b[43maxes_style\u001b[49m\u001b[43m(\u001b[49m\u001b[43mstyle\u001b[49m\u001b[43m,\u001b[49m\u001b[43m \u001b[49m\u001b[43mrc\u001b[49m\u001b[43m)\u001b[49m\n\u001b[32m    332\u001b[39m     mpl.rcParams.update(style_object)\n",
      "\u001b[36mFile \u001b[39m\u001b[32mc:\\Users\\Sara\\KI-mappe\\Dave3625-Host-2025\\.venv\\Lib\\site-packages\\seaborn\\rcmod.py:185\u001b[39m, in \u001b[36maxes_style\u001b[39m\u001b[34m(style, rc)\u001b[39m\n\u001b[32m    183\u001b[39m styles = [\u001b[33m\"\u001b[39m\u001b[33mwhite\u001b[39m\u001b[33m\"\u001b[39m, \u001b[33m\"\u001b[39m\u001b[33mdark\u001b[39m\u001b[33m\"\u001b[39m, \u001b[33m\"\u001b[39m\u001b[33mwhitegrid\u001b[39m\u001b[33m\"\u001b[39m, \u001b[33m\"\u001b[39m\u001b[33mdarkgrid\u001b[39m\u001b[33m\"\u001b[39m, \u001b[33m\"\u001b[39m\u001b[33mticks\u001b[39m\u001b[33m\"\u001b[39m]\n\u001b[32m    184\u001b[39m \u001b[38;5;28;01mif\u001b[39;00m style \u001b[38;5;129;01mnot\u001b[39;00m \u001b[38;5;129;01min\u001b[39;00m styles:\n\u001b[32m--> \u001b[39m\u001b[32m185\u001b[39m     \u001b[38;5;28;01mraise\u001b[39;00m \u001b[38;5;167;01mValueError\u001b[39;00m(\u001b[33mf\u001b[39m\u001b[33m\"\u001b[39m\u001b[33mstyle must be one of \u001b[39m\u001b[38;5;132;01m{\u001b[39;00m\u001b[33m'\u001b[39m\u001b[33m, \u001b[39m\u001b[33m'\u001b[39m.join(styles)\u001b[38;5;132;01m}\u001b[39;00m\u001b[33m\"\u001b[39m)\n\u001b[32m    187\u001b[39m \u001b[38;5;66;03m# Define colors here\u001b[39;00m\n\u001b[32m    188\u001b[39m dark_gray = \u001b[33m\"\u001b[39m\u001b[33m.15\u001b[39m\u001b[33m\"\u001b[39m\n",
      "\u001b[31mValueError\u001b[39m: style must be one of white, dark, whitegrid, darkgrid, ticks"
     ]
    }
   ],
   "source": [
    "import seaborn as sns\n",
    "import matplotlib.pyplot as plt\n",
    "\n",
    "sns.set_style(\"ggplot\")\n",
    "\n",
    "# Sjekk at data finnes\n",
    "print(SupType_1.shape, SupType_2.shape)\n",
    "\n",
    "fig, axes = plt.subplots(2, 1, figsize=(10,8))\n",
    "\n",
    "sns.boxplot(ax=axes[0], y=SupType_1['Item_MRP'])\n",
    "axes[0].set_title(f\"Boxplot of Item_MRP for {types[0]}\")\n",
    "\n",
    "sns.boxplot(ax=axes[1], y=SupType_2['Item_MRP'])\n",
    "axes[1].set_title(f\"Boxplot of Item_MRP for {types[1]}\")\n",
    "\n",
    "plt.tight_layout()\n",
    "plt.show()\n"
   ]
  },
  {
   "cell_type": "code",
   "execution_count": null,
=======
>>>>>>> 971a1250f485764302453631f682d845be2c350d
   "id": "f2d41813",
   "metadata": {},
   "outputs": [
    {
     "data": {
      "image/png": "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",
      "text/plain": [
       "<Figure size 1000x800 with 2 Axes>"
      ]
     },
     "metadata": {},
     "output_type": "display_data"
    },
    {
     "name": "stdout",
     "output_type": "stream",
     "text": [
      "\n",
      "Median Item_MRP for Supermarket Type1: 144.7457\n",
      "Median Item_MRP for Supermarket Type2: 130.18099999999998\n",
      "--> Supermarket Type1 har høyere median MRP.\n",
      "\n",
      "Outlier-statistikk for Supermarket Type1: antall outliers = 0\n",
      "Eksempel på outliers: []\n",
      "\n",
      "Outlier-statistikk for Supermarket Type2: antall outliers = 0\n",
      "Eksempel på outliers: []\n"
     ]
    }
   ],
   "source": [
    "import seaborn as sns\n",
    "import matplotlib.pyplot as plt\n",
    "\n",
    "# 1) Bruk matplotlib sin 'ggplot' (seaborn aksepterer ikke 'ggplot' som style-name)\n",
    "plt.style.use('ggplot')\n",
    "sns.set_style('whitegrid')  # kompatibel seaborn-style\n",
    "\n",
    "# 2) Finn en egnet dataframe å hente Outlet_Type fra\n",
    "try:\n",
    "    df_source = Grc_new_df  # foretrukket\n",
    "except NameError:\n",
    "    df_source = Grc_df     # fallback hvis Grc_new_df ikke finnes\n",
    "\n",
    "# 3) Lag SupType_1 og SupType_2 hvis de ikke finnes\n",
    "if 'SupType_1' not in globals() or 'SupType_2' not in globals():\n",
    "    types = df_source['Outlet_Type'].unique()\n",
    "    if len(types) < 2:\n",
    "        raise ValueError(\"Det finnes mindre enn 2 forskjellige Outlet_Type i datasettet.\")\n",
    "    SupType_1 = df_source[df_source['Outlet_Type'] == types[0]].copy()\n",
    "    SupType_2 = df_source[df_source['Outlet_Type'] == types[1]].copy()\n",
    "else:\n",
    "    # prøv å hente navnene på typene fra data hvis mulig\n",
    "    try:\n",
    "        types = [SupType_1['Outlet_Type'].iloc[0], SupType_2['Outlet_Type'].iloc[0]]\n",
    "    except Exception:\n",
    "        types = df_source['Outlet_Type'].unique()[:2]\n",
    "\n",
    "# 4) Enkel validering: sjekk at Item_MRP finnes og ikke er tom\n",
    "for name, df in [('SupType_1', SupType_1), ('SupType_2', SupType_2)]:\n",
    "    if 'Item_MRP' not in df.columns:\n",
    "        raise KeyError(f\"'Item_MRP' finnes ikke i {name}\")\n",
    "    if df['Item_MRP'].dropna().empty:\n",
    "        raise ValueError(f\"{name} har ingen gyldige Item_MRP-verdier\")\n",
    "\n",
    "# 5) Lag boxplot (2 rader, 1 kolonne)\n",
    "fig, axes = plt.subplots(2, 1, figsize=(10,8))\n",
    "\n",
    "sns.boxplot(ax=axes[0], y=SupType_1['Item_MRP'])\n",
    "axes[0].set_title(f\"Boxplot of Item_MRP for {types[0]}\")\n",
    "\n",
    "sns.boxplot(ax=axes[1], y=SupType_2['Item_MRP'])\n",
    "axes[1].set_title(f\"Boxplot of Item_MRP for {types[1]}\")\n",
    "\n",
    "plt.tight_layout()\n",
    "plt.show()\n",
    "\n",
    "# 6) Beregn medianer og avgjør hvilken som er høyest\n",
    "m1 = SupType_1['Item_MRP'].median()\n",
    "m2 = SupType_2['Item_MRP'].median()\n",
    "print(f\"\\nMedian Item_MRP for {types[0]}: {m1}\")\n",
    "print(f\"Median Item_MRP for {types[1]}: {m2}\")\n",
    "if m1 > m2:\n",
    "    print(f\"--> {types[0]} har høyere median MRP.\")\n",
    "elif m2 > m1:\n",
    "    print(f\"--> {types[1]} har høyere median MRP.\")\n",
    "else:\n",
    "    print(\"--> Medianene er like.\")\n",
    "\n",
    "# 7) Enkel outlier-sjekk med IQR-metoden\n",
    "def outlier_info(series):\n",
    "    s = series.dropna()\n",
    "    q1 = s.quantile(0.25)\n",
    "    q3 = s.quantile(0.75)\n",
    "    iqr = q3 - q1\n",
    "    lower = q1 - 1.5 * iqr\n",
    "    upper = q3 + 1.5 * iqr\n",
    "    outliers = s[(s < lower) | (s > upper)]\n",
    "    return {'q1': q1, 'q3': q3, 'iqr': iqr, 'lower': lower, 'upper': upper,\n",
    "            'outlier_count': int(outliers.count()), 'example_outliers': outliers.head(5).values}\n",
    "\n",
    "stats1 = outlier_info(SupType_1['Item_MRP'])\n",
    "stats2 = outlier_info(SupType_2['Item_MRP'])\n",
    "\n",
    "print(f\"\\nOutlier-statistikk for {types[0]}: antall outliers = {stats1['outlier_count']}\")\n",
    "print(f\"Eksempel på outliers: {stats1['example_outliers']}\")\n",
    "print(f\"\\nOutlier-statistikk for {types[1]}: antall outliers = {stats2['outlier_count']}\")\n",
    "print(f\"Eksempel på outliers: {stats2['example_outliers']}\")\n"
   ]
  },
  {
   "cell_type": "markdown",
   "id": "21582a47",
   "metadata": {},
   "source": [
    "Oppgave 8\n",
    "\n",
    "Oppgavetekst:\n",
    "Concatenate the DataFrames SupType_1 and SupType_2 to create a new DataFrame Grc_Concat_df and sort it in ascending order based on the column Item_Outlet_Sales. What is the Outlet_Location_type of the store with the lowest sales?"
   ]
  },
  {
   "cell_type": "code",
   "execution_count": null,
   "id": "98304a74",
   "metadata": {},
   "outputs": [
    {
     "name": "stdout",
     "output_type": "stream",
     "text": [
      "Outlet_Location_Type med lavest salg: Tier 3\n"
     ]
    }
   ],
   "source": [
    "Grc_Concat_df = pd.concat([SupType_1, SupType_2])\n",
    "Grc_Concat_df = Grc_Concat_df.sort_values('Item_Outlet_Sales', ascending=True)\n",
    "\n",
    "# Outlet_Location_Type for butikken med lavest salg\n",
    "lowest_sales_location = Grc_Concat_df.iloc[0]['Outlet_Location_Type']\n",
    "print(\"Outlet_Location_Type med lavest salg:\", lowest_sales_location)\n"
   ]
  },
  {
   "cell_type": "markdown",
   "id": "6ebde45e",
   "metadata": {},
   "source": [
    "Oppgave 9\n",
    "\n",
    "Oppgavetekst:\n",
    "Using columns Outlet_Size and Outlet_Location_Type to create a multiple index for Grc_Concat_df."
   ]
  },
  {
   "cell_type": "code",
   "execution_count": null,
   "id": "4016052f",
   "metadata": {},
   "outputs": [
    {
     "data": {
      "text/html": [
       "<div>\n",
       "<style scoped>\n",
       "    .dataframe tbody tr th:only-of-type {\n",
       "        vertical-align: middle;\n",
       "    }\n",
       "\n",
       "    .dataframe tbody tr th {\n",
       "        vertical-align: top;\n",
       "    }\n",
       "\n",
       "    .dataframe thead th {\n",
       "        text-align: right;\n",
       "    }\n",
       "</style>\n",
       "<table border=\"1\" class=\"dataframe\">\n",
       "  <thead>\n",
       "    <tr style=\"text-align: right;\">\n",
       "      <th></th>\n",
       "      <th></th>\n",
       "      <th>Item_Weight</th>\n",
       "      <th>Item_Fat_Content</th>\n",
       "      <th>Item_Visibility</th>\n",
       "      <th>Item_Type</th>\n",
       "      <th>Item_MRP</th>\n",
       "      <th>Outlet_Establishment_Year</th>\n",
       "      <th>Outlet_Type</th>\n",
       "      <th>Item_Outlet_Sales</th>\n",
       "    </tr>\n",
       "    <tr>\n",
       "      <th>Outlet_Size</th>\n",
       "      <th>Outlet_Location_Type</th>\n",
       "      <th></th>\n",
       "      <th></th>\n",
       "      <th></th>\n",
       "      <th></th>\n",
       "      <th></th>\n",
       "      <th></th>\n",
       "      <th></th>\n",
       "      <th></th>\n",
       "    </tr>\n",
       "  </thead>\n",
       "  <tbody>\n",
       "    <tr>\n",
       "      <th>High</th>\n",
       "      <th>Tier 3</th>\n",
       "      <td>20.500</td>\n",
       "      <td>Low Fat</td>\n",
       "      <td>0.143164</td>\n",
       "      <td>Household</td>\n",
       "      <td>34.9190</td>\n",
       "      <td>1987</td>\n",
       "      <td>Supermarket Type1</td>\n",
       "      <td>73.2380</td>\n",
       "    </tr>\n",
       "    <tr>\n",
       "      <th rowspan=\"2\" valign=\"top\">Medium</th>\n",
       "      <th>Tier 3</th>\n",
       "      <td>6.635</td>\n",
       "      <td>Regular</td>\n",
       "      <td>0.046278</td>\n",
       "      <td>Frozen Foods</td>\n",
       "      <td>36.7506</td>\n",
       "      <td>2009</td>\n",
       "      <td>Supermarket Type2</td>\n",
       "      <td>75.9012</td>\n",
       "    </tr>\n",
       "    <tr>\n",
       "      <th>Tier 3</th>\n",
       "      <td>6.320</td>\n",
       "      <td>Low Fat</td>\n",
       "      <td>0.012770</td>\n",
       "      <td>Meat</td>\n",
       "      <td>39.9822</td>\n",
       "      <td>2009</td>\n",
       "      <td>Supermarket Type2</td>\n",
       "      <td>78.5644</td>\n",
       "    </tr>\n",
       "    <tr>\n",
       "      <th>NaN</th>\n",
       "      <th>Tier 2</th>\n",
       "      <td>9.105</td>\n",
       "      <td>Low Fat</td>\n",
       "      <td>0.038560</td>\n",
       "      <td>Household</td>\n",
       "      <td>33.8900</td>\n",
       "      <td>2002</td>\n",
       "      <td>Supermarket Type1</td>\n",
       "      <td>99.8700</td>\n",
       "    </tr>\n",
       "    <tr>\n",
       "      <th>Small</th>\n",
       "      <th>Tier 1</th>\n",
       "      <td>19.250</td>\n",
       "      <td>Low Fat</td>\n",
       "      <td>0.108030</td>\n",
       "      <td>Household</td>\n",
       "      <td>32.4558</td>\n",
       "      <td>1997</td>\n",
       "      <td>Supermarket Type1</td>\n",
       "      <td>101.8674</td>\n",
       "    </tr>\n",
       "  </tbody>\n",
       "</table>\n",
       "</div>"
      ],
      "text/plain": [
       "                                  Item_Weight Item_Fat_Content  \\\n",
       "Outlet_Size Outlet_Location_Type                                 \n",
       "High        Tier 3                     20.500          Low Fat   \n",
       "Medium      Tier 3                      6.635          Regular   \n",
       "            Tier 3                      6.320          Low Fat   \n",
       "NaN         Tier 2                      9.105          Low Fat   \n",
       "Small       Tier 1                     19.250          Low Fat   \n",
       "\n",
       "                                  Item_Visibility     Item_Type  Item_MRP  \\\n",
       "Outlet_Size Outlet_Location_Type                                            \n",
       "High        Tier 3                       0.143164     Household   34.9190   \n",
       "Medium      Tier 3                       0.046278  Frozen Foods   36.7506   \n",
       "            Tier 3                       0.012770          Meat   39.9822   \n",
       "NaN         Tier 2                       0.038560     Household   33.8900   \n",
       "Small       Tier 1                       0.108030     Household   32.4558   \n",
       "\n",
       "                                  Outlet_Establishment_Year  \\\n",
       "Outlet_Size Outlet_Location_Type                              \n",
       "High        Tier 3                                     1987   \n",
       "Medium      Tier 3                                     2009   \n",
       "            Tier 3                                     2009   \n",
       "NaN         Tier 2                                     2002   \n",
       "Small       Tier 1                                     1997   \n",
       "\n",
       "                                        Outlet_Type  Item_Outlet_Sales  \n",
       "Outlet_Size Outlet_Location_Type                                        \n",
       "High        Tier 3                Supermarket Type1            73.2380  \n",
       "Medium      Tier 3                Supermarket Type2            75.9012  \n",
       "            Tier 3                Supermarket Type2            78.5644  \n",
       "NaN         Tier 2                Supermarket Type1            99.8700  \n",
       "Small       Tier 1                Supermarket Type1           101.8674  "
      ]
     },
     "metadata": {},
     "output_type": "display_data"
    }
   ],
   "source": [
    "Grc_Concat_df.set_index(['Outlet_Size','Outlet_Location_Type'], inplace=True)\n",
    "display(Grc_Concat_df.head())\n"
   ]
  },
  {
   "cell_type": "markdown",
   "id": "bc9b3751",
   "metadata": {},
   "source": [
    "Oppgave 10\n",
    "\n",
    "Oppgavetekst:\n",
    "Cut the column Item_Weight of Grc_Concat_df into 10 buckets and compute each bucket's mean, minimum, maximum, and count."
   ]
  },
  {
   "cell_type": "code",
   "execution_count": null,
   "id": "1afcf339",
   "metadata": {},
   "outputs": [
    {
     "name": "stderr",
     "output_type": "stream",
     "text": [
      "C:\\Users\\Sara\\AppData\\Local\\Temp\\ipykernel_9780\\676587452.py:5: FutureWarning: The default of observed=False is deprecated and will be changed to True in a future version of pandas. Pass observed=False to retain current behavior or observed=True to adopt the future default and silence this warning.\n",
      "  bucket_stats = Grc_Concat_df.groupby('Weight_Bucket')['Item_Weight'].agg(['mean','min','max','count'])\n"
     ]
    },
    {
     "data": {
      "text/html": [
       "<div>\n",
       "<style scoped>\n",
       "    .dataframe tbody tr th:only-of-type {\n",
       "        vertical-align: middle;\n",
       "    }\n",
       "\n",
       "    .dataframe tbody tr th {\n",
       "        vertical-align: top;\n",
       "    }\n",
       "\n",
       "    .dataframe thead th {\n",
       "        text-align: right;\n",
       "    }\n",
       "</style>\n",
       "<table border=\"1\" class=\"dataframe\">\n",
       "  <thead>\n",
       "    <tr style=\"text-align: right;\">\n",
       "      <th></th>\n",
       "      <th>mean</th>\n",
       "      <th>min</th>\n",
       "      <th>max</th>\n",
       "      <th>count</th>\n",
       "    </tr>\n",
       "    <tr>\n",
       "      <th>Weight_Bucket</th>\n",
       "      <th></th>\n",
       "      <th></th>\n",
       "      <th></th>\n",
       "      <th></th>\n",
       "    </tr>\n",
       "  </thead>\n",
       "  <tbody>\n",
       "    <tr>\n",
       "      <th>(4.538, 6.234]</th>\n",
       "      <td>5.623814</td>\n",
       "      <td>4.555</td>\n",
       "      <td>6.215</td>\n",
       "      <td>253</td>\n",
       "    </tr>\n",
       "    <tr>\n",
       "      <th>(6.234, 7.914]</th>\n",
       "      <td>7.121807</td>\n",
       "      <td>6.235</td>\n",
       "      <td>7.905</td>\n",
       "      <td>476</td>\n",
       "    </tr>\n",
       "    <tr>\n",
       "      <th>(7.914, 9.594]</th>\n",
       "      <td>8.761867</td>\n",
       "      <td>7.930</td>\n",
       "      <td>9.500</td>\n",
       "      <td>450</td>\n",
       "    </tr>\n",
       "    <tr>\n",
       "      <th>(9.594, 11.273]</th>\n",
       "      <td>10.344917</td>\n",
       "      <td>9.600</td>\n",
       "      <td>11.150</td>\n",
       "      <td>362</td>\n",
       "    </tr>\n",
       "    <tr>\n",
       "      <th>(11.273, 12.952]</th>\n",
       "      <td>12.081635</td>\n",
       "      <td>11.300</td>\n",
       "      <td>12.850</td>\n",
       "      <td>419</td>\n",
       "    </tr>\n",
       "    <tr>\n",
       "      <th>(12.952, 14.632]</th>\n",
       "      <td>13.716193</td>\n",
       "      <td>13.000</td>\n",
       "      <td>14.600</td>\n",
       "      <td>352</td>\n",
       "    </tr>\n",
       "    <tr>\n",
       "      <th>(14.632, 16.312]</th>\n",
       "      <td>15.495976</td>\n",
       "      <td>14.650</td>\n",
       "      <td>16.250</td>\n",
       "      <td>410</td>\n",
       "    </tr>\n",
       "    <tr>\n",
       "      <th>(16.312, 17.991]</th>\n",
       "      <td>17.172672</td>\n",
       "      <td>16.350</td>\n",
       "      <td>17.850</td>\n",
       "      <td>408</td>\n",
       "    </tr>\n",
       "    <tr>\n",
       "      <th>(17.991, 19.671]</th>\n",
       "      <td>18.838005</td>\n",
       "      <td>18.000</td>\n",
       "      <td>19.600</td>\n",
       "      <td>396</td>\n",
       "    </tr>\n",
       "    <tr>\n",
       "      <th>(19.671, 21.35]</th>\n",
       "      <td>20.357012</td>\n",
       "      <td>19.700</td>\n",
       "      <td>21.350</td>\n",
       "      <td>328</td>\n",
       "    </tr>\n",
       "  </tbody>\n",
       "</table>\n",
       "</div>"
      ],
      "text/plain": [
       "                       mean     min     max  count\n",
       "Weight_Bucket                                     \n",
       "(4.538, 6.234]     5.623814   4.555   6.215    253\n",
       "(6.234, 7.914]     7.121807   6.235   7.905    476\n",
       "(7.914, 9.594]     8.761867   7.930   9.500    450\n",
       "(9.594, 11.273]   10.344917   9.600  11.150    362\n",
       "(11.273, 12.952]  12.081635  11.300  12.850    419\n",
       "(12.952, 14.632]  13.716193  13.000  14.600    352\n",
       "(14.632, 16.312]  15.495976  14.650  16.250    410\n",
       "(16.312, 17.991]  17.172672  16.350  17.850    408\n",
       "(17.991, 19.671]  18.838005  18.000  19.600    396\n",
       "(19.671, 21.35]   20.357012  19.700  21.350    328"
      ]
     },
     "metadata": {},
     "output_type": "display_data"
    }
   ],
   "source": [
    "# Del i 10 like store intervaller\n",
    "Grc_Concat_df['Weight_Bucket'] = pd.cut(Grc_Concat_df['Item_Weight'], bins=10)\n",
    "\n",
    "# Gruppér etter bucket og beregn statistikk\n",
    "bucket_stats = Grc_Concat_df.groupby('Weight_Bucket')['Item_Weight'].agg(['mean','min','max','count'])\n",
    "display(bucket_stats)\n"
   ]
  }
 ],
 "metadata": {
  "kernelspec": {
   "display_name": "Python 3",
   "language": "python",
   "name": "python3"
  },
  "language_info": {
   "codemirror_mode": {
    "name": "ipython",
    "version": 3
   },
   "file_extension": ".py",
   "mimetype": "text/x-python",
   "name": "python",
   "nbconvert_exporter": "python",
   "pygments_lexer": "ipython3",
   "version": "3.11.9"
  }
 },
 "nbformat": 4,
 "nbformat_minor": 5
}
